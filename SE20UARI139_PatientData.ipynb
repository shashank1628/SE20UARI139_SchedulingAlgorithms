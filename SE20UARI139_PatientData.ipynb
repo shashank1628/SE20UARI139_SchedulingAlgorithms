{
  "nbformat": 4,
  "nbformat_minor": 0,
  "metadata": {
    "colab": {
      "provenance": [],
      "authorship_tag": "ABX9TyMyC8QbW1Gy6rtyLIZx57Kw",
      "include_colab_link": true
    },
    "kernelspec": {
      "name": "python3",
      "display_name": "Python 3"
    },
    "language_info": {
      "name": "python"
    }
  },
  "cells": [
    {
      "cell_type": "markdown",
      "metadata": {
        "id": "view-in-github",
        "colab_type": "text"
      },
      "source": [
        "<a href=\"https://colab.research.google.com/github/shashank1628/SE20UARI139_SchedulingAlgorithms/blob/main/SE20UARI139_PatientData.ipynb\" target=\"_parent\"><img src=\"https://colab.research.google.com/assets/colab-badge.svg\" alt=\"Open In Colab\"/></a>"
      ]
    },
    {
      "cell_type": "code",
      "execution_count": 3,
      "metadata": {
        "colab": {
          "base_uri": "https://localhost:8080/"
        },
        "id": "tgB4QULJ2Uc5",
        "outputId": "e9b65e25-48d7-4773-941e-04633822f484"
      },
      "outputs": [
        {
          "output_type": "stream",
          "name": "stdout",
          "text": [
            "FCFS Order: ['Patient A', 'Patient B', 'Patient C', 'Patient D']\n",
            "SJF Order: ['Patient D', 'Patient B', 'Patient A', 'Patient C']\n",
            "Priority Scheduling Order: ['Patient C', 'Patient A', 'Patient D', 'Patient B']\n",
            "Round Robin Order: ['Patient A', 'Patient A', 'Patient A', 'Patient A', 'Patient A', 'Patient A', 'Patient B', 'Patient B', 'Patient B', 'Patient B', 'Patient C', 'Patient C', 'Patient C', 'Patient C', 'Patient C', 'Patient C', 'Patient C', 'Patient C', 'Patient D', 'Patient D', 'Patient D']\n"
          ]
        }
      ],
      "source": [
        "import heapq\n",
        "\n",
        "# Patient data\n",
        "patients = [\n",
        "    ('Patient A', 0, 3, 30),\n",
        "    ('Patient B', 10, 5, 20),\n",
        "    ('Patient C', 15, 2, 40),\n",
        "    ('Patient D', 20, 4, 15)\n",
        "]\n",
        "\n",
        "# FCFS (First-Come, First-Served)\n",
        "fcfs_order = [patient[0] for patient in sorted(patients, key=lambda x: x[1])]\n",
        "\n",
        "# SJF (Shortest Job First)\n",
        "sjf_order = [patient[0] for patient in sorted(patients, key=lambda x: x[3])]\n",
        "\n",
        "# PS (Priority Scheduling)\n",
        "priority_order = [patient[0] for patient in sorted(patients, key=lambda x: (x[2], x[3]))]\n",
        "\n",
        "# RR (Round Robin)\n",
        "def round_robin_scheduling(patients, time_slice):\n",
        "    rr_order = []\n",
        "    heap = []\n",
        "\n",
        "    for patient in patients:\n",
        "        heapq.heappush(heap, (patient[1], patient))\n",
        "\n",
        "    while heap:\n",
        "        _, current_patient = heapq.heappop(heap)\n",
        "        rr_order.append(current_patient[0])\n",
        "        current_patient = (current_patient[0], current_patient[1], current_patient[2], current_patient[3] - time_slice)\n",
        "\n",
        "        if current_patient[3] > 0:\n",
        "            heapq.heappush(heap, (current_patient[1], current_patient))\n",
        "\n",
        "    return rr_order\n",
        "\n",
        "rr_order = round_robin_scheduling(patients, 5)\n",
        "\n",
        "# Print results\n",
        "print(\"FCFS Order:\", fcfs_order)\n",
        "print(\"SJF Order:\", sjf_order)\n",
        "print(\"Priority Scheduling Order:\", priority_order)\n",
        "print(\"Round Robin Order:\", rr_order)\n"
      ]
    }
  ]
}